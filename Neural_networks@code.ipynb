{
 "cells": [
  {
   "cell_type": "code",
   "execution_count": 95,
   "metadata": {},
   "outputs": [],
   "source": [
    "import numpy as np\n",
    "import pandas as pd\n",
    "x=np.array([[0,0,1],\n",
    "           [0,1,1],\n",
    "           [1,0,1],\n",
    "           [1,1,1],\n",
    "           [1,0,1],\n",
    "           [1,1,1]])"
   ]
  },
  {
   "cell_type": "code",
   "execution_count": 96,
   "metadata": {},
   "outputs": [],
   "source": [
    "y=np.array([[0],\n",
    "          [1],\n",
    "          [1],\n",
    "          [0],\n",
    "          [1],\n",
    "          [0]])"
   ]
  },
  {
   "cell_type": "code",
   "execution_count": 63,
   "metadata": {},
   "outputs": [
    {
     "name": "stdout",
     "output_type": "stream",
     "text": [
      "[[0.51639863 0.57066759 0.02847423 0.17152166 0.68527698]\n",
      " [0.83389686 0.30696622 0.89361308 0.72154386 0.18993895]\n",
      " [0.55422759 0.35213195 0.1818924  0.78560176 0.96548322]]\n"
     ]
    }
   ],
   "source": [
    "np.random.seed(101)\n",
    "w1=np.random.random((3,5))\n",
    "w2=np.random.random((5,7))\n",
    "w3=np.random.random((7,5))\n",
    "w4=np.random.random((5,1))"
   ]
  },
  {
   "cell_type": "code",
   "execution_count": 97,
   "metadata": {},
   "outputs": [],
   "source": [
    "###sigmoid activation function:\n",
    "def sigmoid(x):\n",
    "    return 1/(1+np.exp(-x))"
   ]
  },
  {
   "cell_type": "code",
   "execution_count": 98,
   "metadata": {},
   "outputs": [],
   "source": [
    "##Error function:\n",
    "def mse(y,ycap):\n",
    "    return ((y-ycap)**2).mean()"
   ]
  },
  {
   "cell_type": "code",
   "execution_count": 99,
   "metadata": {},
   "outputs": [],
   "source": [
    "def derivative(x):\n",
    "    return x*(x-1)"
   ]
  },
  {
   "cell_type": "code",
   "execution_count": 94,
   "metadata": {},
   "outputs": [],
   "source": [
    "w=[np.array(w1),np.array(w2),np.array(w3),np.array(w4)]"
   ]
  },
  {
   "cell_type": "code",
   "execution_count": 100,
   "metadata": {},
   "outputs": [],
   "source": [
    "def train(x,y,w,iter,conv=0.000000001):\n",
    "    w1=w[0]\n",
    "    w2=w[1]\n",
    "    w3=w[2]\n",
    "    w4=w[3]\n",
    "    perr=0\n",
    "    j=0\n",
    "    for i in range(iter):\n",
    "        l1=sigmoid(x.dot(w1))\n",
    "        l2=sigmoid(l1.dot(w2))\n",
    "        l3=sigmoid(l2.dot(w3))\n",
    "        l4=sigmoid(l3.dot(w4))\n",
    "        cerr=mse(y,l4)\n",
    "        \n",
    "        diff=abs(perr-cerr)\n",
    "        if diff<=conv:\n",
    "            print(\"training  completed after \",i+1,\"iteration\")\n",
    "            j=1\n",
    "            break\n",
    "        if i%250==0:\n",
    "            print(\"current error at \",i+1,\"iterations\")\n",
    "        e4=y-l4\n",
    "        delta4=e4*derivative(l4)\n",
    "        e3=delta4.dot(w4.T)\n",
    "        delta3=e3*derivative(l3)\n",
    "        e2=delta3.dot(w3.T)\n",
    "        delta2=e2*derivative(l2)\n",
    "        e1=delta2.dot(w2.T)\n",
    "        delta1=e1*derivative(l1)\n",
    "        w1+=x.T.dot(delta1)\n",
    "        w2+=l1.T.dot(delta2)\n",
    "        w3+=l2.T.dot(delta3)\n",
    "        w4+=l3.T.dot(delta4)\n",
    "        perr=cerr\n",
    "    if j==0:\n",
    "        print(\"Training not completed\")\n",
    "    return [w1,w2,w3,w4]    \n",
    "            "
   ]
  },
  {
   "cell_type": "code",
   "execution_count": 101,
   "metadata": {},
   "outputs": [
    {
     "name": "stdout",
     "output_type": "stream",
     "text": [
      "4\n"
     ]
    }
   ],
   "source": [
    "print(len(w))"
   ]
  },
  {
   "cell_type": "code",
   "execution_count": 69,
   "metadata": {},
   "outputs": [
    {
     "name": "stdout",
     "output_type": "stream",
     "text": [
      "current error at  1 iterations\n",
      "current error at  251 iterations\n",
      "current error at  501 iterations\n",
      "current error at  751 iterations\n",
      "current error at  1001 iterations\n",
      "current error at  1251 iterations\n",
      "current error at  1501 iterations\n",
      "current error at  1751 iterations\n",
      "current error at  2001 iterations\n",
      "current error at  2251 iterations\n",
      "training  completed after  2363 iteration\n"
     ]
    }
   ],
   "source": [
    "theta=train(x,y,w,6000)"
   ]
  },
  {
   "cell_type": "code",
   "execution_count": 71,
   "metadata": {},
   "outputs": [
    {
     "name": "stdout",
     "output_type": "stream",
     "text": [
      "[[0.51639863 0.57066759 0.02847423 0.17152166 0.68527698]\n",
      " [0.83389686 0.30696622 0.89361308 0.72154386 0.18993895]\n",
      " [0.55422759 0.35213195 0.1818924  0.78560176 0.96548322]]\n"
     ]
    }
   ],
   "source": [
    "print(w1)"
   ]
  },
  {
   "cell_type": "code",
   "execution_count": 72,
   "metadata": {},
   "outputs": [
    {
     "data": {
      "text/plain": [
       "array([[0.50723469, 0.55557787, 0.01023172, 0.16121979, 0.67671674],\n",
       "       [0.82460744, 0.29176219, 0.87514993, 0.71108076, 0.18132363],\n",
       "       [0.52859358, 0.31932029, 0.14295647, 0.7602993 , 0.94412283]])"
      ]
     },
     "execution_count": 72,
     "metadata": {},
     "output_type": "execute_result"
    }
   ],
   "source": [
    "theta[0]"
   ]
  },
  {
   "cell_type": "code",
   "execution_count": 102,
   "metadata": {},
   "outputs": [],
   "source": [
    "#predicted function:\n",
    "def predict(x,w):\n",
    "    r=x\n",
    "    for v in w:\n",
    "        r=sigmoid(r.dot(v))\n",
    "    return r       "
   ]
  },
  {
   "cell_type": "code",
   "execution_count": 105,
   "metadata": {},
   "outputs": [
    {
     "name": "stdout",
     "output_type": "stream",
     "text": [
      "[[0.99992821]\n",
      " [0.99993415]\n",
      " [0.99993227]\n",
      " [0.99993648]\n",
      " [0.99993227]\n",
      " [0.99993648]]\n"
     ]
    }
   ],
   "source": [
    "ycap=predict(x,theta)\n",
    " print(ycap)"
   ]
  },
  {
   "cell_type": "code",
   "execution_count": 80,
   "metadata": {},
   "outputs": [
    {
     "name": "stdout",
     "output_type": "stream",
     "text": [
      "[[0. 1.]\n",
      " [1. 1.]\n",
      " [1. 1.]\n",
      " [0. 1.]\n",
      " [1. 1.]\n",
      " [0. 1.]]\n"
     ]
    }
   ],
   "source": [
    "print(np.c_[y.ravel(),ycap.ravel()])"
   ]
  },
  {
   "cell_type": "code",
   "execution_count": 106,
   "metadata": {},
   "outputs": [
    {
     "name": "stdout",
     "output_type": "stream",
     "text": [
      "[[1.]\n",
      " [1.]\n",
      " [1.]\n",
      " [1.]\n",
      " [1.]\n",
      " [1.]]\n"
     ]
    }
   ],
   "source": [
    "ycap[ycap>0.5]=1\n",
    "ycap[ycap<0.5]=0\n",
    "print(ycap)"
   ]
  },
  {
   "cell_type": "code",
   "execution_count": 82,
   "metadata": {},
   "outputs": [
    {
     "name": "stdout",
     "output_type": "stream",
     "text": [
      "[[0. 1.]\n",
      " [1. 1.]\n",
      " [1. 1.]\n",
      " [0. 1.]\n",
      " [1. 1.]\n",
      " [0. 1.]]\n"
     ]
    }
   ],
   "source": [
    "print(np.c_[y.ravel(),ycap.ravel()])"
   ]
  },
  {
   "cell_type": "code",
   "execution_count": 107,
   "metadata": {},
   "outputs": [],
   "source": [
    "##accuracy function:\n",
    "def acc_clf(y,ycap):\n",
    "    r=y==ycap\n",
    "    pcnt=r[r==True].size\n",
    "    n=y.size\n",
    "    acc=pcnt/n*100\n",
    "    return acc    "
   ]
  },
  {
   "cell_type": "code",
   "execution_count": 108,
   "metadata": {},
   "outputs": [
    {
     "data": {
      "text/plain": [
       "50.0"
      ]
     },
     "execution_count": 108,
     "metadata": {},
     "output_type": "execute_result"
    }
   ],
   "source": [
    "acc_clf(y,ycap)"
   ]
  },
  {
   "cell_type": "code",
   "execution_count": 110,
   "metadata": {},
   "outputs": [
    {
     "name": "stdout",
     "output_type": "stream",
     "text": [
      "[[0.99993321]\n",
      " [0.99993227]\n",
      " [0.99993648]\n",
      " [0.99992821]]\n"
     ]
    }
   ],
   "source": [
    "newdata=np.array([[1,1,0],\n",
    "                [1,0,1],\n",
    "                [1,1,1],\n",
    "                [0,0,1]])\n",
    "predictions=predict(newdata,theta)\n",
    "print(predictions)\n"
   ]
  },
  {
   "cell_type": "code",
   "execution_count": 115,
   "metadata": {},
   "outputs": [
    {
     "name": "stdout",
     "output_type": "stream",
     "text": [
      "[[1.]\n",
      " [1.]\n",
      " [1.]\n",
      " [1.]]\n"
     ]
    }
   ],
   "source": [
    "p=predictions\n",
    "p[p>0.5]=1\n",
    "p[p<0.5]=0\n",
    "print(p)"
   ]
  },
  {
   "cell_type": "code",
   "execution_count": null,
   "metadata": {},
   "outputs": [],
   "source": []
  }
 ],
 "metadata": {
  "kernelspec": {
   "display_name": "Python 3",
   "language": "python",
   "name": "python3"
  },
  "language_info": {
   "codemirror_mode": {
    "name": "ipython",
    "version": 3
   },
   "file_extension": ".py",
   "mimetype": "text/x-python",
   "name": "python",
   "nbconvert_exporter": "python",
   "pygments_lexer": "ipython3",
   "version": "3.7.3"
  }
 },
 "nbformat": 4,
 "nbformat_minor": 2
}
